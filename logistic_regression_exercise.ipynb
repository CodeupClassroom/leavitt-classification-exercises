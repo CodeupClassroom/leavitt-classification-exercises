{
 "cells": [
  {
   "cell_type": "markdown",
   "id": "5f8975a6-7e63-415d-af39-9434cb612e4c",
   "metadata": {},
   "source": [
    "### Goals of Exercise:\n",
    " - Get familiar with utilizing Logistic Regression in our modeling workflow\n",
    " - Repeating and iterating on our process of practicing model training, validating, and selection\n",
    " - Examing the effects of hyperparameters on the outcomes of models\n",
    " - Examing the effects of feature space on the output of logistic regressions"
   ]
  },
  {
   "cell_type": "markdown",
   "id": "5d470319-8034-4102-ae30-c2d62d7daf79",
   "metadata": {},
   "source": [
    "### Familiarities:\n",
    " - We are going to acquire the Titanic Data\n",
    " - We are going to prep the Titanic data\n",
    " - We are going to utilize our modularized scripts that we have already created for ourselves, acquire.py and prepare.py in order to continue the repeatability and modularity of our workflow and ensure repeatability when deploying the data science pipeline to a project spec"
   ]
  },
  {
   "cell_type": "code",
   "execution_count": 1,
   "id": "c902d5d9-91d8-48b8-abcb-739b255cdc03",
   "metadata": {},
   "outputs": [],
   "source": [
    "# tabular data manipulation:\n",
    "import numpy as np\n",
    "import pandas as pd\n",
    "\n",
    "# modular scripts for data wrangling\n",
    "import acquire\n",
    "import prepare\n",
    "\n",
    "# if i want to do any data viz:\n",
    "import matplotlib.pyplot as plt\n",
    "import seaborn as sns\n",
    "\n",
    "# sklearn model analysis and the Logistic Regression model\n",
    "from sklearn.metrics import confusion_matrix, classification_report\n",
    "from sklearn.linear_model import LogisticRegression"
   ]
  },
  {
   "cell_type": "code",
   "execution_count": 2,
   "id": "4b6b7d71",
   "metadata": {},
   "outputs": [],
   "source": [
    "# Acquire Stage\n",
    "df = acquire.get_titanic_data()"
   ]
  },
  {
   "cell_type": "code",
   "execution_count": 3,
   "id": "5b08f37c-9073-4d36-9c7d-4b6dab85d5cf",
   "metadata": {},
   "outputs": [
    {
     "name": "stdout",
     "output_type": "stream",
     "text": [
      "<class 'pandas.core.frame.DataFrame'>\n",
      "Int64Index: 891 entries, 0 to 890\n",
      "Data columns (total 13 columns):\n",
      " #   Column        Non-Null Count  Dtype  \n",
      "---  ------        --------------  -----  \n",
      " 0   passenger_id  891 non-null    int64  \n",
      " 1   survived      891 non-null    int64  \n",
      " 2   pclass        891 non-null    int64  \n",
      " 3   sex           891 non-null    object \n",
      " 4   age           714 non-null    float64\n",
      " 5   sibsp         891 non-null    int64  \n",
      " 6   parch         891 non-null    int64  \n",
      " 7   fare          891 non-null    float64\n",
      " 8   embarked      889 non-null    object \n",
      " 9   class         891 non-null    object \n",
      " 10  deck          203 non-null    object \n",
      " 11  embark_town   889 non-null    object \n",
      " 12  alone         891 non-null    int64  \n",
      "dtypes: float64(2), int64(6), object(5)\n",
      "memory usage: 97.5+ KB\n"
     ]
    }
   ],
   "source": [
    "df.info()"
   ]
  },
  {
   "cell_type": "markdown",
   "id": "ec14437a",
   "metadata": {},
   "source": [
    "### Data Preparation Stage"
   ]
  },
  {
   "cell_type": "code",
   "execution_count": 4,
   "id": "32f37d56-6f26-4ba8-a9cf-ba5c815af4c2",
   "metadata": {},
   "outputs": [
    {
     "name": "stderr",
     "output_type": "stream",
     "text": [
      "/Users/madeleinecapper/Documents/student-facing/leavitt/leavitt-classification-exercises/prepare.py:60: SettingWithCopyWarning: \n",
      "A value is trying to be set on a copy of a slice from a DataFrame.\n",
      "Try using .loc[row_indexer,col_indexer] = value instead\n",
      "\n",
      "See the caveats in the documentation: https://pandas.pydata.org/pandas-docs/stable/user_guide/indexing.html#returning-a-view-versus-a-copy\n",
      "  test['age'] = imputer.transform(test[['age']])\n"
     ]
    }
   ],
   "source": [
    "# prepare the data using our prepare script\n",
    "train, validate, test = prepare.prep_titanic(df)"
   ]
  },
  {
   "cell_type": "code",
   "execution_count": 5,
   "id": "b537fad8",
   "metadata": {},
   "outputs": [],
   "source": [
    "# Split the datasets\n",
    "# Separate out our X and y values\n",
    "X_train, y_train = train.drop(columns='survived'), train.survived\n",
    "X_validate, y_validate = validate.drop(columns='survived'), validate.survived\n",
    "X_test, y_test = test.drop(columns='survived'), test.survived"
   ]
  },
  {
   "cell_type": "code",
   "execution_count": 6,
   "id": "04571a00-8799-46ef-83f3-81fd12021dee",
   "metadata": {},
   "outputs": [],
   "source": [
    "dropcols = ['embarked', 'class','embark_town']"
   ]
  },
  {
   "cell_type": "code",
   "execution_count": 7,
   "id": "1d9397d8",
   "metadata": {},
   "outputs": [],
   "source": [
    "X_train = X_train.drop(columns=['embarked', 'class','embark_town'])"
   ]
  },
  {
   "cell_type": "code",
   "execution_count": 8,
   "id": "5fcf8fd6-b9ba-4186-a600-811bfae7f514",
   "metadata": {},
   "outputs": [],
   "source": [
    "X_validate, X_test = X_validate.drop(columns=dropcols), X_test.drop(columns=dropcols)"
   ]
  },
  {
   "cell_type": "markdown",
   "id": "e7b48795",
   "metadata": {},
   "source": [
    "> **Insert Exploratory Data Analysis here**"
   ]
  },
  {
   "cell_type": "markdown",
   "id": "8c7451a6",
   "metadata": {},
   "source": [
    "### Setup the Baseline"
   ]
  },
  {
   "cell_type": "code",
   "execution_count": 11,
   "id": "c4be299a",
   "metadata": {},
   "outputs": [
    {
     "data": {
      "text/plain": [
       "0    307\n",
       "1    190\n",
       "Name: survived, dtype: int64"
      ]
     },
     "execution_count": 11,
     "metadata": {},
     "output_type": "execute_result"
    }
   ],
   "source": [
    "# The most frequenly observed outcome will be our baseline\n",
    "y_train.value_counts()"
   ]
  },
  {
   "cell_type": "code",
   "execution_count": 14,
   "id": "2bcfc216",
   "metadata": {
    "scrolled": true
   },
   "outputs": [],
   "source": [
    "baseline_accuracy = round((train.survived == 0).mean(), 2)"
   ]
  },
  {
   "cell_type": "code",
   "execution_count": 15,
   "id": "afed4c83-b881-4e19-befa-2dc733c15550",
   "metadata": {},
   "outputs": [
    {
     "data": {
      "text/plain": [
       "0.62"
      ]
     },
     "execution_count": 15,
     "metadata": {},
     "output_type": "execute_result"
    }
   ],
   "source": [
    "baseline_accuracy"
   ]
  },
  {
   "cell_type": "markdown",
   "id": "db9b2ddf",
   "metadata": {},
   "source": [
    "### Exercise 1\n",
    "- Create a model using age, fare, and pclass\n",
    "- Does this model beat the baseline?"
   ]
  },
  {
   "cell_type": "code",
   "execution_count": 16,
   "id": "ad57e79b-dda2-4102-9e69-463eaa0915b2",
   "metadata": {},
   "outputs": [
    {
     "data": {
      "text/plain": [
       "Index(['passenger_id', 'pclass', 'sex', 'age', 'sibsp', 'parch', 'fare',\n",
       "       'alone', 'Q', 'S'],\n",
       "      dtype='object')"
      ]
     },
     "execution_count": 16,
     "metadata": {},
     "output_type": "execute_result"
    }
   ],
   "source": [
    "X_train.columns"
   ]
  },
  {
   "cell_type": "code",
   "execution_count": 17,
   "id": "3e15613d-06d5-4b7a-8fbf-b33bbe13ccce",
   "metadata": {},
   "outputs": [],
   "source": [
    "# same thing as its been: create, fit, use"
   ]
  },
  {
   "cell_type": "code",
   "execution_count": 19,
   "id": "2e617987-241a-4201-b7c7-f330becb6b28",
   "metadata": {},
   "outputs": [],
   "source": [
    "# Create the logistic regression\n",
    "logit = LogisticRegression(random_state=1349)\n",
    "\n",
    "# specify the features we're using\n",
    "selected_feats = ['age', 'pclass', 'fare']\n",
    "\n",
    "# Fit a model using only these specified features\n",
    "logit.fit(X_train[selected_feats], y_train)\n",
    "\n",
    "# Since we .fit on a subset, we .predict on that same subset of features\n",
    "y_pred = logit.predict(X_train[selected_feats])"
   ]
  },
  {
   "cell_type": "code",
   "execution_count": 20,
   "id": "664b14b9-a2ce-4452-8da5-0ac1f821f637",
   "metadata": {},
   "outputs": [
    {
     "name": "stdout",
     "output_type": "stream",
     "text": [
      "Baseline is 0.62\n",
      "Logistic Regression using age, pclass, and fare features\n",
      "Accuracy of Logistic Regression classifier on training set: 0.72\n"
     ]
    }
   ],
   "source": [
    "print(\"Baseline is\", round(baseline_accuracy, 2))\n",
    "print(\"Logistic Regression using age, pclass, and fare features\")\n",
    "print('Accuracy of Logistic Regression classifier on training set: {:.2f}'\n",
    "     .format(logit.score(X_train[selected_feats], y_train)))"
   ]
  },
  {
   "cell_type": "markdown",
   "id": "d41f652d",
   "metadata": {},
   "source": [
    "### Exercise 2\n",
    "\n",
    "Create a model using age, fare, pclass, and gender"
   ]
  },
  {
   "cell_type": "code",
   "execution_count": 24,
   "id": "fc116282",
   "metadata": {},
   "outputs": [
    {
     "name": "stdout",
     "output_type": "stream",
     "text": [
      "Logistic Regression using age, pclass, fare, and gender features\n",
      "Accuracy of Logistic Regression classifier on training set: 0.80\n"
     ]
    }
   ],
   "source": [
    "# Create the logistic regression\n",
    "logit1 = LogisticRegression(random_state=1349)\n",
    "\n",
    "# specify the features we're using\n",
    "features = ['age', 'fare', 'pclass', 'sex']\n",
    "\n",
    "# Fit a model using only these specified features\n",
    "logit1.fit(X_train[features], y_train)\n",
    "\n",
    "y_pred = logit1.predict(X_train[features])\n",
    "\n",
    "print(\"Logistic Regression using age, pclass, fare, and gender features\")\n",
    "print('Accuracy of Logistic Regression classifier on training set: {:.2f}'\n",
    "     .format(logit1.score(X_train[features], y_train)))"
   ]
  },
  {
   "cell_type": "markdown",
   "id": "a1c66d6f",
   "metadata": {},
   "source": [
    "### Exercise 3\n",
    "\n",
    "\n",
    "Try out other combinations of features and models.\n",
    "\n",
    "Models Created:\n",
    "- `logit2`, all Features, \n",
    "- `logit3`, all features with class_weight=\"balanced\", \n",
    "- `logit4`, only age, \n",
    "- `logit5`, only pclass, \n",
    "- `logit6`, C hyperparameter close to zero, "
   ]
  },
  {
   "cell_type": "code",
   "execution_count": 25,
   "id": "dfcc2d10",
   "metadata": {},
   "outputs": [
    {
     "name": "stdout",
     "output_type": "stream",
     "text": [
      "Model trained on all features\n",
      "Accuracy of Logistic Regression classifier on training set: 0.79\n"
     ]
    },
    {
     "name": "stderr",
     "output_type": "stream",
     "text": [
      "/opt/homebrew/anaconda3/envs/homebase/lib/python3.9/site-packages/sklearn/linear_model/_logistic.py:763: ConvergenceWarning: lbfgs failed to converge (status=1):\n",
      "STOP: TOTAL NO. of ITERATIONS REACHED LIMIT.\n",
      "\n",
      "Increase the number of iterations (max_iter) or scale the data as shown in:\n",
      "    https://scikit-learn.org/stable/modules/preprocessing.html\n",
      "Please also refer to the documentation for alternative solver options:\n",
      "    https://scikit-learn.org/stable/modules/linear_model.html#logistic-regression\n",
      "  n_iter_i = _check_optimize_result(\n"
     ]
    }
   ],
   "source": [
    "# All features, all default hyperparameters\n",
    "logit2 = LogisticRegression(random_state=1349)\n",
    "logit2.fit(X_train, y_train)\n",
    "\n",
    "\n",
    "print(\"Model trained on all features\")\n",
    "print('Accuracy of Logistic Regression classifier on training set: {:.2f}'\n",
    "     .format(logit2.score(X_train, y_train)))"
   ]
  },
  {
   "cell_type": "code",
   "execution_count": 28,
   "id": "06f224f4",
   "metadata": {},
   "outputs": [
    {
     "name": "stdout",
     "output_type": "stream",
     "text": [
      "All Features and we're setting the class_weight hyperparameter\n",
      "Accuracy of Logistic Regression classifier on training set: 0.78\n"
     ]
    },
    {
     "name": "stderr",
     "output_type": "stream",
     "text": [
      "/opt/homebrew/anaconda3/envs/homebase/lib/python3.9/site-packages/sklearn/linear_model/_logistic.py:763: ConvergenceWarning: lbfgs failed to converge (status=1):\n",
      "STOP: TOTAL NO. of ITERATIONS REACHED LIMIT.\n",
      "\n",
      "Increase the number of iterations (max_iter) or scale the data as shown in:\n",
      "    https://scikit-learn.org/stable/modules/preprocessing.html\n",
      "Please also refer to the documentation for alternative solver options:\n",
      "    https://scikit-learn.org/stable/modules/linear_model.html#logistic-regression\n",
      "  n_iter_i = _check_optimize_result(\n"
     ]
    }
   ],
   "source": [
    "# All features, but we'll use the class_weights to hold the actual ratios`\n",
    "logit3 = LogisticRegression(random_state=1349, class_weight='balanced')\n",
    "logit3.fit(X_train, y_train)\n",
    "y_pred = logit3.predict(X_train)\n",
    "accuracy = logit3.score(X_train, y_train)\n",
    "\n",
    "print(\"All Features and we're setting the class_weight hyperparameter\")\n",
    "print(f'Accuracy of Logistic Regression classifier on training set: {accuracy:.2}')"
   ]
  },
  {
   "cell_type": "code",
   "execution_count": 29,
   "id": "047f450e",
   "metadata": {},
   "outputs": [
    {
     "name": "stdout",
     "output_type": "stream",
     "text": [
      "All Features and we're setting the class_weight hyperparameter\n",
      "Accuracy of Logistic Regression classifier on training set: 0.62\n"
     ]
    }
   ],
   "source": [
    "# Only Age \n",
    "logit4 = LogisticRegression(random_state=1349)\n",
    "logit4.fit(X_train[['age']], y_train)\n",
    "accuracy = logit4.score(X_train[['age']], y_train)\n",
    "\n",
    "print(\"All Features and we're setting the class_weight hyperparameter\")\n",
    "print(f'Accuracy of Logistic Regression classifier on training set: {accuracy:.2}')"
   ]
  },
  {
   "cell_type": "code",
   "execution_count": 30,
   "id": "2c07cf2a",
   "metadata": {},
   "outputs": [
    {
     "name": "stdout",
     "output_type": "stream",
     "text": [
      "All Features and we're setting the class_weight hyperparameter\n",
      "Accuracy of Logistic Regression classifier on training set: 0.68\n"
     ]
    }
   ],
   "source": [
    "# Only pclass\n",
    "\n",
    "logit5 = LogisticRegression(random_state=1349)\n",
    "logit5.fit(X_train[['pclass']], y_train)\n",
    "accuracy = logit5.score(X_train[['pclass']], y_train)\n",
    "\n",
    "\n",
    "\n",
    "print(\"All Features and we're setting the class_weight hyperparameter\")\n",
    "print(f'Accuracy of Logistic Regression classifier on training set: {accuracy:.2}')"
   ]
  },
  {
   "cell_type": "code",
   "execution_count": 31,
   "id": "0afd065c",
   "metadata": {},
   "outputs": [
    {
     "name": "stdout",
     "output_type": "stream",
     "text": [
      "All Features, C hyperparameter approaching 0\n",
      "Baseline is 0.62\n",
      "Accuracy of this Logistic Regression on training set: 0.66\n"
     ]
    }
   ],
   "source": [
    "# All Features, C ~ 0\n",
    "# All features, but we'll use the class_weights to hold the actual ratios\n",
    "logit6 = LogisticRegression(random_state=1349, C=0.0001)\n",
    "logit6.fit(X_train, y_train)\n",
    "accuracy = logit6.score(X_train, y_train)\n",
    "\n",
    "print(\"All Features, C hyperparameter approaching 0\")\n",
    "print(\"Baseline is\", round(baseline_accuracy, 2))\n",
    "print(f'Accuracy of this Logistic Regression on training set: {accuracy:.2}')"
   ]
  },
  {
   "cell_type": "markdown",
   "id": "173cf5ca",
   "metadata": {},
   "source": [
    "## Now Let's Pick our Best Models and Evaluate on Validate!\n",
    "- `logit1` trained with `features = [\"age\", \"pclass\", \"fare\", \"is_female\"]` has .81 accuracy on train\n",
    "- `logit2` trained on all features, with all other hyperparameters defaulted, has .82 accuracy on train\n",
    "- `logit3` trained on all features with `class_weight='balanced'` has accuracy of .80 on train"
   ]
  },
  {
   "cell_type": "code",
   "execution_count": 34,
   "id": "54dd951d",
   "metadata": {},
   "outputs": [
    {
     "name": "stdout",
     "output_type": "stream",
     "text": [
      "Logit1 model using age, pclass, fare, and is_female as the features\n",
      "              precision    recall  f1-score   support\n",
      "\n",
      "           0       0.82      0.84      0.83       132\n",
      "           1       0.73      0.70      0.71        82\n",
      "\n",
      "    accuracy                           0.79       214\n",
      "   macro avg       0.77      0.77      0.77       214\n",
      "weighted avg       0.78      0.79      0.78       214\n",
      "\n"
     ]
    }
   ],
   "source": [
    "# Let's determine logit1's metrics on validate\n",
    "features = [\"age\", \"fare\", \"pclass\", \"sex\"]\n",
    "\n",
    "y_pred = logit1.predict(X_validate[features])\n",
    "\n",
    "print('Logit1 model using age, pclass, fare, and is_female as the features')\n",
    "print(classification_report(y_validate, y_pred))"
   ]
  },
  {
   "cell_type": "code",
   "execution_count": 35,
   "id": "2f39921f",
   "metadata": {},
   "outputs": [
    {
     "name": "stdout",
     "output_type": "stream",
     "text": [
      "Logit2 model using all features and all model defaults\n",
      "              precision    recall  f1-score   support\n",
      "\n",
      "           0       0.80      0.83      0.81       132\n",
      "           1       0.71      0.67      0.69        82\n",
      "\n",
      "    accuracy                           0.77       214\n",
      "   macro avg       0.75      0.75      0.75       214\n",
      "weighted avg       0.76      0.77      0.77       214\n",
      "\n"
     ]
    }
   ],
   "source": [
    "# Logit2 uses all features\n",
    "y_pred = logit2.predict(X_validate)\n",
    "\n",
    "print(\"Logit2 model using all features and all model defaults\")\n",
    "print(classification_report(y_validate, y_pred))"
   ]
  },
  {
   "cell_type": "code",
   "execution_count": 36,
   "id": "01fddf90",
   "metadata": {},
   "outputs": [
    {
     "name": "stdout",
     "output_type": "stream",
     "text": [
      "Logit3 model using all features, class_weight='balanced', and all other hyperparameters as default\n",
      "              precision    recall  f1-score   support\n",
      "\n",
      "           0       0.73      0.88      0.80       132\n",
      "           1       0.71      0.49      0.58        82\n",
      "\n",
      "    accuracy                           0.73       214\n",
      "   macro avg       0.72      0.68      0.69       214\n",
      "weighted avg       0.73      0.73      0.72       214\n",
      "\n"
     ]
    }
   ],
   "source": [
    "# Logit uses all features and class_weight='balanced'\n",
    "features = ['age', 'pclass', 'fare']\n",
    "y_pred = logit.predict(X_validate[features])\n",
    "\n",
    "print(\"Logit3 model using all features, class_weight='balanced', and all other hyperparameters as default\")\n",
    "print(classification_report(y_validate, y_pred))"
   ]
  },
  {
   "cell_type": "code",
   "execution_count": 37,
   "id": "89d9e0ae-222a-4753-87bb-6f4c1fce5bb8",
   "metadata": {},
   "outputs": [],
   "source": [
    "# takeaways: logit1 is doing the best out of the models that I have used in evaluating on the \n",
    "# validation sets.  Going forward from this point, in a real project scenario,\n",
    "# I would benchmark these results against other model types:\n",
    "# I would also examine the feature space in my model, the feature coefficients, and examine\n",
    "# the importance of each to further bolster my EDA and determine the best drivers\n",
    "# for the outcome of my most successful model(s)"
   ]
  },
  {
   "cell_type": "markdown",
   "id": "7a3f14ef",
   "metadata": {},
   "source": [
    "## What next?\n",
    "- Consider the precision and recall values from each model. \n",
    "- Experiment with more hyperparameter values and combinations\n",
    "- Handle the age nulls differently\n",
    "    - We could try filling the nulls with median age instead of average age\n",
    "    - We could drop the nulls if they weren't such a large proportion of the dataset\n",
    "- Feature engineering\n",
    "- Handling outliers\n",
    "- Scaling (we'll do this later)\n",
    "\n",
    "Once we have a single model doing really well on `train` and `validate`, then we'll select that model to evaluate on `test`."
   ]
  },
  {
   "cell_type": "markdown",
   "id": "9e7af90a",
   "metadata": {},
   "source": [
    "\n",
    "#### Bonus: Choosing different probability threshold:\n",
    "Default threshold value is 0.5   \n",
    "We choose a **threshold t** such that if $P(y = 1) > t$, we predict 1, else we predict 0.\n",
    "\n",
    "- A threshold is a value we choose  \n",
    "- if the probability the model gives us is above the threshold, predict positive  \n",
    "- if the probability the model gives us is below the threshold, predict negative  \n",
    "- .predict -- makes predictions with a threshold of .5  \n",
    "- When the threshold is 0, predict everything as positive (i.e. 1)  \n",
    "- When the threshold is 1, predict everything as negative (i.e. 0)"
   ]
  },
  {
   "attachments": {
    "Screen%20Shot%202021-11-19%20at%204.57.18%20PM.png": {
     "image/png": "[encoded data removed]"
    }
   },
   "cell_type": "markdown",
   "id": "9a8dacb3",
   "metadata": {},
   "source": [
    "![Screen%20Shot%202021-11-19%20at%204.57.18%20PM.png](attachment:Screen%20Shot%202021-11-19%20at%204.57.18%20PM.png)"
   ]
  },
  {
   "cell_type": "code",
   "execution_count": 38,
   "id": "5e72a6bc",
   "metadata": {},
   "outputs": [
    {
     "data": {
      "text/html": [
       "<div>\n",
       "<style scoped>\n",
       "    .dataframe tbody tr th:only-of-type {\n",
       "        vertical-align: middle;\n",
       "    }\n",
       "\n",
       "    .dataframe tbody tr th {\n",
       "        vertical-align: top;\n",
       "    }\n",
       "\n",
       "    .dataframe thead th {\n",
       "        text-align: right;\n",
       "    }\n",
       "</style>\n",
       "<table border=\"1\" class=\"dataframe\">\n",
       "  <thead>\n",
       "    <tr style=\"text-align: right;\">\n",
       "      <th></th>\n",
       "      <th>not-survived</th>\n",
       "      <th>survived</th>\n",
       "    </tr>\n",
       "  </thead>\n",
       "  <tbody>\n",
       "    <tr>\n",
       "      <th>0</th>\n",
       "      <td>0.695661</td>\n",
       "      <td>0.304339</td>\n",
       "    </tr>\n",
       "    <tr>\n",
       "      <th>1</th>\n",
       "      <td>0.111502</td>\n",
       "      <td>0.888498</td>\n",
       "    </tr>\n",
       "    <tr>\n",
       "      <th>2</th>\n",
       "      <td>0.821001</td>\n",
       "      <td>0.178999</td>\n",
       "    </tr>\n",
       "    <tr>\n",
       "      <th>3</th>\n",
       "      <td>0.132534</td>\n",
       "      <td>0.867466</td>\n",
       "    </tr>\n",
       "    <tr>\n",
       "      <th>4</th>\n",
       "      <td>0.062454</td>\n",
       "      <td>0.937546</td>\n",
       "    </tr>\n",
       "  </tbody>\n",
       "</table>\n",
       "</div>"
      ],
      "text/plain": [
       "   not-survived  survived\n",
       "0      0.695661  0.304339\n",
       "1      0.111502  0.888498\n",
       "2      0.821001  0.178999\n",
       "3      0.132534  0.867466\n",
       "4      0.062454  0.937546"
      ]
     },
     "execution_count": 38,
     "metadata": {},
     "output_type": "execute_result"
    }
   ],
   "source": [
    "# using logit3 model for demo here\n",
    "\n",
    "y_pred_proba = logit3.predict_proba(X_train)\n",
    "\n",
    "\n",
    "y_pred_proba = pd.DataFrame(y_pred_proba, columns = ['not-survived', 'survived'])\n",
    "y_pred_proba.head()"
   ]
  },
  {
   "cell_type": "code",
   "execution_count": 39,
   "id": "ce627ab9",
   "metadata": {},
   "outputs": [
    {
     "data": {
      "text/plain": [
       "0    1\n",
       "1    1\n",
       "2    0\n",
       "3    1\n",
       "4    1\n",
       "Name: survived, dtype: int64"
      ]
     },
     "execution_count": 39,
     "metadata": {},
     "output_type": "execute_result"
    }
   ],
   "source": [
    "# Set new threshold as 0.3 instead of 0.5\n",
    "t = 0.3\n",
    "\n",
    "# masking: True or False, is the predicted probability of our positive class\n",
    "# greater than this new probability threshold? if yes, return True/1. Cast this as\n",
    "# integer type, to receive the same types of prediction that we have previously\n",
    "y_pred = (y_pred_proba.survived > t).astype(int)\n",
    "y_pred.head()"
   ]
  },
  {
   "cell_type": "code",
   "execution_count": 40,
   "id": "cb15e5e0-edb5-4d7b-a164-c8dd70f8baff",
   "metadata": {},
   "outputs": [],
   "source": [
    "from sklearn.metrics import accuracy_score"
   ]
  },
  {
   "cell_type": "code",
   "execution_count": 41,
   "id": "6b110bb6-503a-4efe-897d-33ebb319fa23",
   "metadata": {},
   "outputs": [
    {
     "data": {
      "text/plain": [
       "0.704225352112676"
      ]
     },
     "execution_count": 41,
     "metadata": {},
     "output_type": "execute_result"
    }
   ],
   "source": [
    "accuracy_score(y_train, y_pred)"
   ]
  },
  {
   "cell_type": "code",
   "execution_count": 44,
   "id": "f07a5a2d-48b4-46c1-9b8a-a90fa8f5a81b",
   "metadata": {},
   "outputs": [
    {
     "data": {
      "text/plain": [
       "array([0. , 0.1, 0.2, 0.3, 0.4, 0.5, 0.6, 0.7, 0.8, 0.9])"
      ]
     },
     "execution_count": 44,
     "metadata": {},
     "output_type": "execute_result"
    }
   ],
   "source": [
    "np.arange(0,1,.1)"
   ]
  },
  {
   "cell_type": "code",
   "execution_count": 46,
   "id": "fb8de1b2-ab90-401f-9793-fada34116b2a",
   "metadata": {},
   "outputs": [],
   "source": [
    "# lets think about thresholds in loops:\n",
    "model_scores = {}\n",
    "for i in np.arange(0,1,.1):\n",
    "    y_pred = (y_pred_proba.survived > i).astype(int)\n",
    "    accuracy = accuracy_score(y_train, y_pred)\n",
    "    model_scores[f'threshold {i}'] =  accuracy"
   ]
  },
  {
   "cell_type": "code",
   "execution_count": 47,
   "id": "bb3c5fec-e7a4-4614-ae4e-9007289b4224",
   "metadata": {},
   "outputs": [
    {
     "data": {
      "text/plain": [
       "{'threshold 0.0': 0.3822937625754527,\n",
       " 'threshold 0.1': 0.42655935613682094,\n",
       " 'threshold 0.2': 0.6056338028169014,\n",
       " 'threshold 0.30000000000000004': 0.704225352112676,\n",
       " 'threshold 0.4': 0.7706237424547284,\n",
       " 'threshold 0.5': 0.7847082494969819,\n",
       " 'threshold 0.6000000000000001': 0.7947686116700201,\n",
       " 'threshold 0.7000000000000001': 0.7967806841046278,\n",
       " 'threshold 0.8': 0.7987927565392354,\n",
       " 'threshold 0.9': 0.7022132796780685}"
      ]
     },
     "execution_count": 47,
     "metadata": {},
     "output_type": "execute_result"
    }
   ],
   "source": [
    "model_scores"
   ]
  },
  {
   "cell_type": "code",
   "execution_count": 42,
   "id": "ff53cf2f",
   "metadata": {},
   "outputs": [
    {
     "name": "stdout",
     "output_type": "stream",
     "text": [
      "              precision    recall  f1-score   support\n",
      "\n",
      "           0       0.86      0.62      0.72       307\n",
      "           1       0.58      0.84      0.69       190\n",
      "\n",
      "    accuracy                           0.70       497\n",
      "   macro avg       0.72      0.73      0.70       497\n",
      "weighted avg       0.75      0.70      0.71       497\n",
      "\n"
     ]
    }
   ],
   "source": [
    "# classification report\n",
    "print(classification_report(y_train, y_pred))"
   ]
  }
 ],
 "metadata": {
  "kernelspec": {
   "display_name": "Python 3",
   "language": "python",
   "name": "python3"
  },
  "language_info": {
   "codemirror_mode": {
    "name": "ipython",
    "version": 3
   },
   "file_extension": ".py",
   "mimetype": "text/x-python",
   "name": "python",
   "nbconvert_exporter": "python",
   "pygments_lexer": "ipython3",
   "version": "3.9.4"
  }
 },
 "nbformat": 4,
 "nbformat_minor": 5
}
