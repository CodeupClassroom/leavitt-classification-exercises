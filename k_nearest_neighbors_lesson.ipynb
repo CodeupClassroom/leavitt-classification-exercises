{
 "cells": [
  {
   "cell_type": "markdown",
   "id": "9163bb59",
   "metadata": {},
   "source": [
    "# KNN\n",
    "\n",
    "### What is KNN?\n",
    "\n",
    "- Supervised Algorithm\n",
    "- Makes predictions based on how close a new data point is to known data points.\n",
    "- Lazy\n",
    "- Sensitive to scaling\n",
    "\n",
    "Link: [KNN Diagram](https://cambridgecoding.files.wordpress.com/2016/01/knn2.jpg)\n",
    "\n",
    "#### Pros:\n",
    "1. Simple\n",
    "2. Robust to noise\n",
    "3. Effective with large datasets\n",
    "4. Performs calculations \"just in time\"\n",
    "5. Data is easy to keep up to date to keep predictions accurate\n",
    "\n",
    "#### Cons:\n",
    "1. Need to determine how many neighbors is optimal\n",
    "2. Computation cost is high (has to calculate every single distance to every feature)\n",
    "3. Euclidean volume increases exponentially as number of features increases (curse of dimensionality)"
   ]
  },
  {
   "cell_type": "code",
   "execution_count": 1,
   "id": "e872ae33",
   "metadata": {},
   "outputs": [],
   "source": [
    "# Quiet my warnings for the sake of the lesson:\n",
    "import warnings\n",
    "warnings.filterwarnings(\"ignore\")\n",
    "\n",
    "# Tabular data friends:\n",
    "import pandas as pd\n",
    "import numpy as np\n",
    "\n",
    "# Data viz:\n",
    "import matplotlib.pyplot as plt\n",
    "import seaborn as sns\n",
    "\n",
    "# Sklearn stuff:\n",
    "from sklearn.model_selection import train_test_split\n",
    "from sklearn.neighbors import KNeighborsClassifier\n",
    "from sklearn.metrics import classification_report, confusion_matrix, plot_confusion_matrix\n",
    "\n",
    "# Data acquisition\n",
    "from pydataset import data"
   ]
  },
  {
   "cell_type": "markdown",
   "id": "eb0c04b9",
   "metadata": {},
   "source": [
    "## Acquire (Iris Dataset)"
   ]
  },
  {
   "cell_type": "code",
   "execution_count": 2,
   "id": "2bbd9558-fa50-4243-9649-fe0d7df660f0",
   "metadata": {},
   "outputs": [],
   "source": [
    "# read Iris data from pydatset\n",
    "df = data('iris')"
   ]
  },
  {
   "cell_type": "code",
   "execution_count": 3,
   "id": "f52c3de8-bb84-45a2-b76b-d66d6fcd1c94",
   "metadata": {},
   "outputs": [
    {
     "data": {
      "text/html": [
       "<div>\n",
       "<style scoped>\n",
       "    .dataframe tbody tr th:only-of-type {\n",
       "        vertical-align: middle;\n",
       "    }\n",
       "\n",
       "    .dataframe tbody tr th {\n",
       "        vertical-align: top;\n",
       "    }\n",
       "\n",
       "    .dataframe thead th {\n",
       "        text-align: right;\n",
       "    }\n",
       "</style>\n",
       "<table border=\"1\" class=\"dataframe\">\n",
       "  <thead>\n",
       "    <tr style=\"text-align: right;\">\n",
       "      <th></th>\n",
       "      <th>Sepal.Length</th>\n",
       "      <th>Sepal.Width</th>\n",
       "      <th>Petal.Length</th>\n",
       "      <th>Petal.Width</th>\n",
       "      <th>Species</th>\n",
       "    </tr>\n",
       "  </thead>\n",
       "  <tbody>\n",
       "    <tr>\n",
       "      <th>1</th>\n",
       "      <td>5.1</td>\n",
       "      <td>3.5</td>\n",
       "      <td>1.4</td>\n",
       "      <td>0.2</td>\n",
       "      <td>setosa</td>\n",
       "    </tr>\n",
       "    <tr>\n",
       "      <th>2</th>\n",
       "      <td>4.9</td>\n",
       "      <td>3.0</td>\n",
       "      <td>1.4</td>\n",
       "      <td>0.2</td>\n",
       "      <td>setosa</td>\n",
       "    </tr>\n",
       "    <tr>\n",
       "      <th>3</th>\n",
       "      <td>4.7</td>\n",
       "      <td>3.2</td>\n",
       "      <td>1.3</td>\n",
       "      <td>0.2</td>\n",
       "      <td>setosa</td>\n",
       "    </tr>\n",
       "    <tr>\n",
       "      <th>4</th>\n",
       "      <td>4.6</td>\n",
       "      <td>3.1</td>\n",
       "      <td>1.5</td>\n",
       "      <td>0.2</td>\n",
       "      <td>setosa</td>\n",
       "    </tr>\n",
       "    <tr>\n",
       "      <th>5</th>\n",
       "      <td>5.0</td>\n",
       "      <td>3.6</td>\n",
       "      <td>1.4</td>\n",
       "      <td>0.2</td>\n",
       "      <td>setosa</td>\n",
       "    </tr>\n",
       "  </tbody>\n",
       "</table>\n",
       "</div>"
      ],
      "text/plain": [
       "   Sepal.Length  Sepal.Width  Petal.Length  Petal.Width Species\n",
       "1           5.1          3.5           1.4          0.2  setosa\n",
       "2           4.9          3.0           1.4          0.2  setosa\n",
       "3           4.7          3.2           1.3          0.2  setosa\n",
       "4           4.6          3.1           1.5          0.2  setosa\n",
       "5           5.0          3.6           1.4          0.2  setosa"
      ]
     },
     "execution_count": 3,
     "metadata": {},
     "output_type": "execute_result"
    }
   ],
   "source": [
    "df.head()"
   ]
  },
  {
   "cell_type": "code",
   "execution_count": 4,
   "id": "8429518f-359c-4dd7-9ce3-1a7cf782c3dc",
   "metadata": {},
   "outputs": [
    {
     "data": {
      "text/html": [
       "<div>\n",
       "<style scoped>\n",
       "    .dataframe tbody tr th:only-of-type {\n",
       "        vertical-align: middle;\n",
       "    }\n",
       "\n",
       "    .dataframe tbody tr th {\n",
       "        vertical-align: top;\n",
       "    }\n",
       "\n",
       "    .dataframe thead th {\n",
       "        text-align: right;\n",
       "    }\n",
       "</style>\n",
       "<table border=\"1\" class=\"dataframe\">\n",
       "  <thead>\n",
       "    <tr style=\"text-align: right;\">\n",
       "      <th></th>\n",
       "      <th>sepal_length</th>\n",
       "      <th>sepal_width</th>\n",
       "      <th>petal_length</th>\n",
       "      <th>petal_width</th>\n",
       "      <th>species</th>\n",
       "    </tr>\n",
       "  </thead>\n",
       "  <tbody>\n",
       "    <tr>\n",
       "      <th>1</th>\n",
       "      <td>5.1</td>\n",
       "      <td>3.5</td>\n",
       "      <td>1.4</td>\n",
       "      <td>0.2</td>\n",
       "      <td>setosa</td>\n",
       "    </tr>\n",
       "    <tr>\n",
       "      <th>2</th>\n",
       "      <td>4.9</td>\n",
       "      <td>3.0</td>\n",
       "      <td>1.4</td>\n",
       "      <td>0.2</td>\n",
       "      <td>setosa</td>\n",
       "    </tr>\n",
       "    <tr>\n",
       "      <th>3</th>\n",
       "      <td>4.7</td>\n",
       "      <td>3.2</td>\n",
       "      <td>1.3</td>\n",
       "      <td>0.2</td>\n",
       "      <td>setosa</td>\n",
       "    </tr>\n",
       "    <tr>\n",
       "      <th>4</th>\n",
       "      <td>4.6</td>\n",
       "      <td>3.1</td>\n",
       "      <td>1.5</td>\n",
       "      <td>0.2</td>\n",
       "      <td>setosa</td>\n",
       "    </tr>\n",
       "    <tr>\n",
       "      <th>5</th>\n",
       "      <td>5.0</td>\n",
       "      <td>3.6</td>\n",
       "      <td>1.4</td>\n",
       "      <td>0.2</td>\n",
       "      <td>setosa</td>\n",
       "    </tr>\n",
       "  </tbody>\n",
       "</table>\n",
       "</div>"
      ],
      "text/plain": [
       "   sepal_length  sepal_width  petal_length  petal_width species\n",
       "1           5.1          3.5           1.4          0.2  setosa\n",
       "2           4.9          3.0           1.4          0.2  setosa\n",
       "3           4.7          3.2           1.3          0.2  setosa\n",
       "4           4.6          3.1           1.5          0.2  setosa\n",
       "5           5.0          3.6           1.4          0.2  setosa"
      ]
     },
     "execution_count": 4,
     "metadata": {},
     "output_type": "execute_result"
    }
   ],
   "source": [
    "# convert column names to lowercase, replace '.' in column names with '_'\n",
    "df.columns = [col.lower().replace('.', '_') for col in df]\n",
    "\n",
    "df.head()"
   ]
  },
  {
   "cell_type": "code",
   "execution_count": 5,
   "id": "a20d903f-b14b-4bed-b749-fc8c9d3b5fd7",
   "metadata": {},
   "outputs": [],
   "source": [
    "# conveniently for me in this scenario, the units of measurement\n",
    "# within iris are consistent"
   ]
  },
  {
   "cell_type": "markdown",
   "id": "12ceb089",
   "metadata": {},
   "source": [
    "## Prepare/Preprocessing"
   ]
  },
  {
   "cell_type": "code",
   "execution_count": 6,
   "id": "36851e68-f47c-442d-8db9-302800a6d1cc",
   "metadata": {},
   "outputs": [],
   "source": [
    "# split into train, validate, test\n",
    "train, test = train_test_split(df, \n",
    "                               stratify=df['species'], \n",
    "                               train_size=0.8, \n",
    "                               random_state=1349)\n",
    "train, validate = train_test_split(train, \n",
    "                                   stratify=train['species'], \n",
    "                                   train_size=0.7, \n",
    "                                   random_state=1349)"
   ]
  },
  {
   "cell_type": "code",
   "execution_count": 7,
   "id": "4ec39ac3-0e05-4845-b42b-81ce3dd73774",
   "metadata": {},
   "outputs": [],
   "source": [
    "# previously, I defined a subset of columns to reference from my train,\n",
    "# In this case, I am going to specifically definte X_train\n",
    "# As the subset of values that I want to utilize."
   ]
  },
  {
   "cell_type": "code",
   "execution_count": 8,
   "id": "9ffb5e49-992a-4c33-be06-f9e1eef8ae34",
   "metadata": {},
   "outputs": [],
   "source": [
    "# create X & y version of train/validate/test\n",
    "# where X contains the features we want to use and y is a series with just the target variable\n",
    "\n",
    "X_train = train.drop(columns=['species', 'petal_length', 'petal_width'])\n",
    "y_train = train.species"
   ]
  },
  {
   "cell_type": "code",
   "execution_count": 9,
   "id": "a2bf9171-13b2-49dd-89d6-d41a5dcc5d84",
   "metadata": {},
   "outputs": [],
   "source": [
    "X_validate = validate.drop(columns=['species', 'petal_length', 'petal_width'])\n",
    "y_validate = validate.species"
   ]
  },
  {
   "cell_type": "code",
   "execution_count": 10,
   "id": "57e803ea-6034-4f82-910a-6a7744963743",
   "metadata": {},
   "outputs": [],
   "source": [
    "X_test = test.drop(columns=['species', 'petal_length', 'petal_width'])\n",
    "y_test = test.species"
   ]
  },
  {
   "cell_type": "code",
   "execution_count": 11,
   "id": "8129cb3f-bedb-4e07-8621-fd96df0f2823",
   "metadata": {},
   "outputs": [
    {
     "data": {
      "text/plain": [
       "Index(['sepal_length', 'sepal_width', 'petal_length', 'petal_width',\n",
       "       'species'],\n",
       "      dtype='object')"
      ]
     },
     "execution_count": 11,
     "metadata": {},
     "output_type": "execute_result"
    }
   ],
   "source": [
    "train.columns"
   ]
  },
  {
   "cell_type": "code",
   "execution_count": 12,
   "id": "b1263cad-9735-45f4-bfe1-297d90c85ce2",
   "metadata": {},
   "outputs": [
    {
     "data": {
      "text/plain": [
       "Index(['sepal_length', 'sepal_width'], dtype='object')"
      ]
     },
     "execution_count": 12,
     "metadata": {},
     "output_type": "execute_result"
    }
   ],
   "source": [
    "X_validate.columns"
   ]
  },
  {
   "cell_type": "code",
   "execution_count": 13,
   "id": "a5c70619-2b75-4b5e-80dd-067a32ca314a",
   "metadata": {},
   "outputs": [
    {
     "data": {
      "text/plain": [
       "Index(['sepal_length', 'sepal_width'], dtype='object')"
      ]
     },
     "execution_count": 13,
     "metadata": {},
     "output_type": "execute_result"
    }
   ],
   "source": [
    "X_train.columns"
   ]
  },
  {
   "cell_type": "code",
   "execution_count": 14,
   "id": "1c46fd0e-a8ac-4905-acfc-55d26cc8a474",
   "metadata": {},
   "outputs": [
    {
     "data": {
      "image/png": "[encoded data removed]",
      "text/plain": [
       "<Figure size 432x288 with 1 Axes>"
      ]
     },
     "metadata": {
      "needs_background": "light"
     },
     "output_type": "display_data"
    }
   ],
   "source": [
    "sns.scatterplot(data=X_train, x='sepal_length', y='sepal_width');"
   ]
  },
  {
   "cell_type": "code",
   "execution_count": 15,
   "id": "ce9654ba-019a-4d1b-b7bb-2dc040d7c9ac",
   "metadata": {},
   "outputs": [
    {
     "data": {
      "image/png": "[encoded data removed]",
      "text/plain": [
       "<Figure size 432x288 with 1 Axes>"
      ]
     },
     "metadata": {
      "needs_background": "light"
     },
     "output_type": "display_data"
    }
   ],
   "source": [
    "sns.scatterplot(data=train, x='sepal_length', y='sepal_width', hue='species');"
   ]
  },
  {
   "cell_type": "markdown",
   "id": "d165a2cb",
   "metadata": {},
   "source": [
    "## Train Model\n",
    "\n",
    "#### Create KNN Object"
   ]
  },
  {
   "cell_type": "code",
   "execution_count": null,
   "id": "d5105e76-6442-4622-b3ea-cb127b795601",
   "metadata": {},
   "outputs": [],
   "source": [
    "# steps remain the same:\n",
    "# 1: make the thing\n",
    "# 2: fit the thing\n",
    "# 3: use the thing"
   ]
  },
  {
   "cell_type": "code",
   "execution_count": 16,
   "id": "bf08ef82",
   "metadata": {},
   "outputs": [],
   "source": [
    "knn = KNeighborsClassifier(n_neighbors=1)"
   ]
  },
  {
   "cell_type": "markdown",
   "id": "ec61bcf1",
   "metadata": {},
   "source": [
    "#### Fit the Model to the Training Data"
   ]
  },
  {
   "cell_type": "code",
   "execution_count": 17,
   "id": "2d5354fb",
   "metadata": {},
   "outputs": [
    {
     "data": {
      "text/plain": [
       "KNeighborsClassifier(n_neighbors=1)"
      ]
     },
     "execution_count": 17,
     "metadata": {},
     "output_type": "execute_result"
    }
   ],
   "source": [
    "knn.fit(X_train, y_train)"
   ]
  },
  {
   "cell_type": "markdown",
   "id": "a8dfbcc8",
   "metadata": {},
   "source": [
    "#### Make Predictions"
   ]
  },
  {
   "cell_type": "code",
   "execution_count": 18,
   "id": "d76be200",
   "metadata": {},
   "outputs": [],
   "source": [
    "y_pred = knn.predict(X_train)"
   ]
  },
  {
   "cell_type": "code",
   "execution_count": 20,
   "id": "76fc4c73",
   "metadata": {},
   "outputs": [
    {
     "data": {
      "text/plain": [
       "array(['virginica', 'setosa', 'versicolor', 'versicolor', 'versicolor'],\n",
       "      dtype=object)"
      ]
     },
     "execution_count": 20,
     "metadata": {},
     "output_type": "execute_result"
    }
   ],
   "source": [
    "y_pred[:5]"
   ]
  },
  {
   "cell_type": "markdown",
   "id": "ec4c70e5",
   "metadata": {},
   "source": [
    "#### Estimate Probability"
   ]
  },
  {
   "cell_type": "code",
   "execution_count": 21,
   "id": "e7d1fee1",
   "metadata": {},
   "outputs": [],
   "source": [
    "y_pred_proba = knn.predict_proba(X_train)"
   ]
  },
  {
   "cell_type": "code",
   "execution_count": 24,
   "id": "bf83814f-f6f2-4098-b4d4-c96b4dbb9fa1",
   "metadata": {},
   "outputs": [
    {
     "data": {
      "text/plain": [
       "array([[0., 0., 1.],\n",
       "       [1., 0., 0.],\n",
       "       [0., 1., 0.],\n",
       "       [0., 1., 0.],\n",
       "       [0., 1., 0.]])"
      ]
     },
     "execution_count": 24,
     "metadata": {},
     "output_type": "execute_result"
    }
   ],
   "source": [
    "y_pred_proba[:5]"
   ]
  },
  {
   "cell_type": "code",
   "execution_count": 26,
   "id": "a296ef2d-1163-4de2-9a2f-bdcee096dbd3",
   "metadata": {},
   "outputs": [
    {
     "data": {
      "text/plain": [
       "array(['virginica', 'setosa', 'versicolor'], dtype=object)"
      ]
     },
     "execution_count": 26,
     "metadata": {},
     "output_type": "execute_result"
    }
   ],
   "source": [
    "# note: .unique() does not give the correct lexographic order of classes\n",
    "train.species.unique()"
   ]
  },
  {
   "cell_type": "code",
   "execution_count": 56,
   "id": "6206c764-c490-42b7-9d49-cf06e14971c0",
   "metadata": {},
   "outputs": [
    {
     "data": {
      "text/plain": [
       "Index(['setosa', 'versicolor', 'virginica'], dtype='object')"
      ]
     },
     "execution_count": 56,
     "metadata": {},
     "output_type": "execute_result"
    }
   ],
   "source": [
    "y_train.value_counts().index"
   ]
  },
  {
   "cell_type": "code",
   "execution_count": 57,
   "id": "9bd62e56-8e62-4c38-a33b-2bb5a1342e50",
   "metadata": {},
   "outputs": [
    {
     "data": {
      "text/plain": [
       "array(['setosa', 'versicolor', 'virginica'], dtype=object)"
      ]
     },
     "execution_count": 57,
     "metadata": {},
     "output_type": "execute_result"
    }
   ],
   "source": [
    "# the model object's classes_ property \n",
    "# is the most dependable way to get the order of predict_proba labels.\n",
    "knn.classes_"
   ]
  },
  {
   "cell_type": "code",
   "execution_count": 22,
   "id": "ef81ab91-f243-4248-af3e-6dc6b246388d",
   "metadata": {},
   "outputs": [
    {
     "data": {
      "text/plain": [
       "array([[0., 0., 1.],\n",
       "       [1., 0., 0.],\n",
       "       [0., 1., 0.],\n",
       "       [0., 1., 0.],\n",
       "       [0., 1., 0.]])"
      ]
     },
     "execution_count": 22,
     "metadata": {},
     "output_type": "execute_result"
    }
   ],
   "source": [
    "y_pred_proba[:5]"
   ]
  },
  {
   "cell_type": "markdown",
   "id": "913df819",
   "metadata": {},
   "source": [
    "## Evaluate Model"
   ]
  },
  {
   "cell_type": "markdown",
   "id": "95e3bdf1",
   "metadata": {},
   "source": [
    "#### Compute the Accuracy"
   ]
  },
  {
   "cell_type": "code",
   "execution_count": 30,
   "id": "57d9f5a5-9696-4010-956b-9068d46dcde3",
   "metadata": {},
   "outputs": [
    {
     "data": {
      "text/plain": [
       "array([[28,  0,  0],\n",
       "       [ 0, 27,  1],\n",
       "       [ 0,  4, 24]])"
      ]
     },
     "execution_count": 30,
     "metadata": {},
     "output_type": "execute_result"
    }
   ],
   "source": [
    "confusion_matrix(y_train, y_pred)"
   ]
  },
  {
   "cell_type": "code",
   "execution_count": 29,
   "id": "5698dff9-268a-4157-b03e-2450c41d5107",
   "metadata": {},
   "outputs": [
    {
     "data": {
      "text/html": [
       "<div>\n",
       "<style scoped>\n",
       "    .dataframe tbody tr th:only-of-type {\n",
       "        vertical-align: middle;\n",
       "    }\n",
       "\n",
       "    .dataframe tbody tr th {\n",
       "        vertical-align: top;\n",
       "    }\n",
       "\n",
       "    .dataframe thead th {\n",
       "        text-align: right;\n",
       "    }\n",
       "</style>\n",
       "<table border=\"1\" class=\"dataframe\">\n",
       "  <thead>\n",
       "    <tr style=\"text-align: right;\">\n",
       "      <th>col_0</th>\n",
       "      <th>setosa</th>\n",
       "      <th>versicolor</th>\n",
       "      <th>virginica</th>\n",
       "    </tr>\n",
       "    <tr>\n",
       "      <th>species</th>\n",
       "      <th></th>\n",
       "      <th></th>\n",
       "      <th></th>\n",
       "    </tr>\n",
       "  </thead>\n",
       "  <tbody>\n",
       "    <tr>\n",
       "      <th>setosa</th>\n",
       "      <td>28</td>\n",
       "      <td>0</td>\n",
       "      <td>0</td>\n",
       "    </tr>\n",
       "    <tr>\n",
       "      <th>versicolor</th>\n",
       "      <td>0</td>\n",
       "      <td>27</td>\n",
       "      <td>1</td>\n",
       "    </tr>\n",
       "    <tr>\n",
       "      <th>virginica</th>\n",
       "      <td>0</td>\n",
       "      <td>4</td>\n",
       "      <td>24</td>\n",
       "    </tr>\n",
       "  </tbody>\n",
       "</table>\n",
       "</div>"
      ],
      "text/plain": [
       "col_0       setosa  versicolor  virginica\n",
       "species                                  \n",
       "setosa          28           0          0\n",
       "versicolor       0          27          1\n",
       "virginica        0           4         24"
      ]
     },
     "execution_count": 29,
     "metadata": {},
     "output_type": "execute_result"
    }
   ],
   "source": [
    "pd.crosstab(y_train, y_pred)"
   ]
  },
  {
   "cell_type": "code",
   "execution_count": 31,
   "id": "b1b7c632",
   "metadata": {},
   "outputs": [],
   "source": [
    "# y_train"
   ]
  },
  {
   "cell_type": "markdown",
   "id": "4bb894ba-b142-4983-9665-213632ce0d55",
   "metadata": {},
   "source": [
    "#### Create a Classification Report"
   ]
  },
  {
   "cell_type": "code",
   "execution_count": 33,
   "id": "d10c79f8",
   "metadata": {},
   "outputs": [
    {
     "name": "stdout",
     "output_type": "stream",
     "text": [
      "              precision    recall  f1-score   support\n",
      "\n",
      "      setosa       1.00      1.00      1.00        28\n",
      "  versicolor       0.87      0.96      0.92        28\n",
      "   virginica       0.96      0.86      0.91        28\n",
      "\n",
      "    accuracy                           0.94        84\n",
      "   macro avg       0.94      0.94      0.94        84\n",
      "weighted avg       0.94      0.94      0.94        84\n",
      "\n"
     ]
    }
   ],
   "source": [
    "print(classification_report(y_train, y_pred))"
   ]
  },
  {
   "cell_type": "markdown",
   "id": "06634c05",
   "metadata": {},
   "source": [
    "## Lets Do it Again"
   ]
  },
  {
   "cell_type": "code",
   "execution_count": 34,
   "id": "d3d35707",
   "metadata": {},
   "outputs": [],
   "source": [
    "# Create KNN Object\n",
    "knn1 = KNeighborsClassifier(n_neighbors=5, weights='uniform')\n",
    "# Fit object to training data\n",
    "knn1.fit(X_train, y_train)\n",
    "# Make predictions on training data\n",
    "y_pred1 = knn1.predict(X_train)"
   ]
  },
  {
   "cell_type": "code",
   "execution_count": 36,
   "id": "185184e9",
   "metadata": {},
   "outputs": [
    {
     "name": "stdout",
     "output_type": "stream",
     "text": [
      "              precision    recall  f1-score   support\n",
      "\n",
      "      setosa       1.00      0.96      0.98        28\n",
      "  versicolor       0.78      0.75      0.76        28\n",
      "   virginica       0.77      0.82      0.79        28\n",
      "\n",
      "    accuracy                           0.85        84\n",
      "   macro avg       0.85      0.85      0.85        84\n",
      "weighted avg       0.85      0.85      0.85        84\n",
      "\n"
     ]
    }
   ],
   "source": [
    "# Evaluate the new model\n",
    "print(classification_report(y_train, y_pred1))\n"
   ]
  },
  {
   "cell_type": "code",
   "execution_count": 45,
   "id": "b075dc58-6d13-4394-b8af-e2f72f4533f1",
   "metadata": {},
   "outputs": [
    {
     "data": {
      "text/plain": [
       "0.8452380952380952"
      ]
     },
     "execution_count": 45,
     "metadata": {},
     "output_type": "execute_result"
    }
   ],
   "source": [
    "knn1.score(X_train, y_train)"
   ]
  },
  {
   "cell_type": "code",
   "execution_count": 37,
   "id": "c379a857",
   "metadata": {},
   "outputs": [],
   "source": [
    "# classification reports on validate sets"
   ]
  },
  {
   "cell_type": "code",
   "execution_count": 39,
   "id": "2cc107e3-9995-42e4-b69b-cbb5e45fd51d",
   "metadata": {},
   "outputs": [
    {
     "data": {
      "text/html": [
       "<div>\n",
       "<style scoped>\n",
       "    .dataframe tbody tr th:only-of-type {\n",
       "        vertical-align: middle;\n",
       "    }\n",
       "\n",
       "    .dataframe tbody tr th {\n",
       "        vertical-align: top;\n",
       "    }\n",
       "\n",
       "    .dataframe thead th {\n",
       "        text-align: right;\n",
       "    }\n",
       "</style>\n",
       "<table border=\"1\" class=\"dataframe\">\n",
       "  <thead>\n",
       "    <tr style=\"text-align: right;\">\n",
       "      <th></th>\n",
       "      <th>sepal_length</th>\n",
       "      <th>sepal_width</th>\n",
       "    </tr>\n",
       "  </thead>\n",
       "  <tbody>\n",
       "    <tr>\n",
       "      <th>6</th>\n",
       "      <td>5.4</td>\n",
       "      <td>3.9</td>\n",
       "    </tr>\n",
       "    <tr>\n",
       "      <th>29</th>\n",
       "      <td>5.2</td>\n",
       "      <td>3.4</td>\n",
       "    </tr>\n",
       "  </tbody>\n",
       "</table>\n",
       "</div>"
      ],
      "text/plain": [
       "    sepal_length  sepal_width\n",
       "6            5.4          3.9\n",
       "29           5.2          3.4"
      ]
     },
     "execution_count": 39,
     "metadata": {},
     "output_type": "execute_result"
    }
   ],
   "source": [
    "X_validate.head(2)"
   ]
  },
  {
   "cell_type": "code",
   "execution_count": 40,
   "id": "7ae0a98d-835d-40c7-bdce-d9baf10499d1",
   "metadata": {},
   "outputs": [
    {
     "name": "stdout",
     "output_type": "stream",
     "text": [
      "              precision    recall  f1-score   support\n",
      "\n",
      "      setosa       1.00      1.00      1.00        12\n",
      "  versicolor       0.62      0.67      0.64        12\n",
      "   virginica       0.64      0.58      0.61        12\n",
      "\n",
      "    accuracy                           0.75        36\n",
      "   macro avg       0.75      0.75      0.75        36\n",
      "weighted avg       0.75      0.75      0.75        36\n",
      "\n"
     ]
    }
   ],
   "source": [
    "print(classification_report(y_validate, knn.predict(X_validate)))"
   ]
  },
  {
   "cell_type": "code",
   "execution_count": null,
   "id": "3a122e64-f880-4e6f-bd01-bda9af2d11ff",
   "metadata": {},
   "outputs": [],
   "source": [
    "# dropoff in accuracy from 94 to 75 in 1 neighbor model, \n",
    "# let's check back on model 2:"
   ]
  },
  {
   "cell_type": "code",
   "execution_count": 41,
   "id": "057e11d3",
   "metadata": {
    "scrolled": true
   },
   "outputs": [
    {
     "name": "stdout",
     "output_type": "stream",
     "text": [
      "              precision    recall  f1-score   support\n",
      "\n",
      "      setosa       1.00      1.00      1.00        12\n",
      "  versicolor       0.64      0.75      0.69        12\n",
      "   virginica       0.70      0.58      0.64        12\n",
      "\n",
      "    accuracy                           0.78        36\n",
      "   macro avg       0.78      0.78      0.78        36\n",
      "weighted avg       0.78      0.78      0.78        36\n",
      "\n"
     ]
    }
   ],
   "source": [
    "print(classification_report(y_validate, knn1.predict(X_validate)))"
   ]
  },
  {
   "cell_type": "code",
   "execution_count": null,
   "id": "8bb1c461-34db-47cc-ab30-e692ff592ee4",
   "metadata": {},
   "outputs": [],
   "source": [
    "# We still experience dropoff inside of knn1, with 5 neighbors, \n",
    "# but less dropoff than in our first model.\n",
    "# We may be able to examine a better performing model, but so far, 5 neighbors \n",
    "# is superior to 1"
   ]
  },
  {
   "cell_type": "markdown",
   "id": "6bc403b0",
   "metadata": {},
   "source": [
    "## Finding the Best value for k"
   ]
  },
  {
   "cell_type": "code",
   "execution_count": 50,
   "id": "efa0db40",
   "metadata": {},
   "outputs": [],
   "source": [
    "# iteration:\n",
    "model_set = []\n",
    "model_accuracies = {}\n",
    "for i in range(1,10):\n",
    "    clf = KNeighborsClassifier(n_neighbors=i)\n",
    "    clf.fit(X_train, y_train)\n",
    "    model_set.append(clf)\n",
    "    model_accuracies[f'{i}_neighbors'] = {\n",
    "        'train_score': round(clf.score(X_train, y_train), 2),\n",
    "        'validate_score': round(clf.score(X_validate, y_validate), 2)}"
   ]
  },
  {
   "cell_type": "code",
   "execution_count": 51,
   "id": "e1b44609-2901-424e-9b01-bacebafb20db",
   "metadata": {},
   "outputs": [
    {
     "data": {
      "text/plain": [
       "{'1_neighbors': {'train_score': 0.94, 'validate_score': 0.75},\n",
       " '2_neighbors': {'train_score': 0.87, 'validate_score': 0.75},\n",
       " '3_neighbors': {'train_score': 0.87, 'validate_score': 0.69},\n",
       " '4_neighbors': {'train_score': 0.87, 'validate_score': 0.75},\n",
       " '5_neighbors': {'train_score': 0.85, 'validate_score': 0.78},\n",
       " '6_neighbors': {'train_score': 0.89, 'validate_score': 0.75},\n",
       " '7_neighbors': {'train_score': 0.85, 'validate_score': 0.75},\n",
       " '8_neighbors': {'train_score': 0.88, 'validate_score': 0.72},\n",
       " '9_neighbors': {'train_score': 0.87, 'validate_score': 0.75}}"
      ]
     },
     "execution_count": 51,
     "metadata": {},
     "output_type": "execute_result"
    }
   ],
   "source": [
    "model_accuracies"
   ]
  },
  {
   "cell_type": "markdown",
   "id": "362c0ec7",
   "metadata": {},
   "source": [
    "## Next Steps\n",
    "- We only used sepal_length and sepal_width. We can try new models with different and/or additional features. \n",
    "\n",
    "\n",
    "- There are other hyperparameters we can tweak\n",
    "    - 'weights': Uniform is the default (all points are treated equally), but we can switch to a 'distance' approach where nearer neighbors are given more weight in the voting process\n",
    "    - 'algorithm': Large datasets use a sampling algorithm to save on computational cost. We can try different samplers. \n",
    "    - 'metric': There is more than one way to measure distance\n",
    "\n",
    "\n",
    "- There are very similar models that we can try (RadiusNeighborsClassifier)"
   ]
  },
  {
   "cell_type": "code",
   "execution_count": null,
   "id": "114f218e",
   "metadata": {},
   "outputs": [],
   "source": []
  }
 ],
 "metadata": {
  "kernelspec": {
   "display_name": "Python 3",
   "language": "python",
   "name": "python3"
  },
  "language_info": {
   "codemirror_mode": {
    "name": "ipython",
    "version": 3
   },
   "file_extension": ".py",
   "mimetype": "text/x-python",
   "name": "python",
   "nbconvert_exporter": "python",
   "pygments_lexer": "ipython3",
   "version": "3.9.4"
  }
 },
 "nbformat": 4,
 "nbformat_minor": 5
}
